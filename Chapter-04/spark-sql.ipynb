{
 "cells": [
  {
   "cell_type": "code",
   "execution_count": 1,
   "metadata": {
    "collapsed": true
   },
   "outputs": [],
   "source": [
    "from pyspark.sql import SparkSession\n",
    "\n",
    "spark = SparkSession \\\n",
    "    .builder \\\n",
    "    .appName(\"Python Spark SQL basic example\") \\\n",
    "    .config(\"spark.some.config.option\", \"some-value\") \\\n",
    "    .getOrCreate()"
   ]
  },
  {
   "cell_type": "code",
   "execution_count": 4,
   "metadata": {},
   "outputs": [
    {
     "data": {
      "text/plain": [
       "u'196\\t242\\t3\\t881250949'"
      ]
     },
     "execution_count": 4,
     "metadata": {},
     "output_type": "execute_result"
    }
   ],
   "source": [
    "from pyspark.sql import Row\n",
    "import os\n",
    "sc = spark.sparkContext\n",
    "PATH=os.path.expanduser(\"~/test_data\")\n",
    "rawData = sc.textFile(\"%s/ml-100k/u.data\" % PATH)\n",
    "rawData.first()"
   ]
  },
  {
   "cell_type": "code",
   "execution_count": 6,
   "metadata": {},
   "outputs": [],
   "source": [
    "parts = rawData.map(lambda l: l.split(\"\\t\"))\n",
    "people = parts.map(lambda p: Row(r1=p[0], r2=p[1], r3=p[2],r4=p[3]))\n",
    "schemaPeople = spark.createDataFrame(people)\n",
    "schemaPeople.createOrReplaceTempView(\"people\")"
   ]
  },
  {
   "cell_type": "code",
   "execution_count": 7,
   "metadata": {},
   "outputs": [
    {
     "name": "stdout",
     "output_type": "stream",
     "text": [
      "+---+----+---+---------+\n| r1|  r2| r3|       r4|\n+---+----+---+---------+\n|196| 242|  3|881250949|\n|186| 302|  3|891717742|\n| 22| 377|  1|878887116|\n|244|  51|  2|880606923|\n|166| 346|  1|886397596|\n|298| 474|  4|884182806|\n|115| 265|  2|881171488|\n|253| 465|  5|891628467|\n|305| 451|  3|886324817|\n|  6|  86|  3|883603013|\n| 62| 257|  2|879372434|\n|286|1014|  5|879781125|\n|200| 222|  5|876042340|\n|210|  40|  3|891035994|\n|224|  29|  3|888104457|\n|303| 785|  3|879485318|\n|122| 387|  5|879270459|\n|194| 274|  2|879539794|\n|291|1042|  4|874834944|\n|234|1184|  2|892079237|\n+---+----+---+---------+\nonly showing top 20 rows\n\n"
     ]
    }
   ],
   "source": [
    "spark.sql(\"select * from people\").show()"
   ]
  },
  {
   "cell_type": "code",
   "execution_count": null,
   "metadata": {},
   "outputs": [],
   "source": [
    ""
   ]
  }
 ],
 "metadata": {
  "kernelspec": {
   "display_name": "Python 2",
   "language": "python",
   "name": "python2"
  },
  "language_info": {
   "codemirror_mode": {
    "name": "ipython",
    "version": 2.0
   },
   "file_extension": ".py",
   "mimetype": "text/x-python",
   "name": "python",
   "nbconvert_exporter": "python",
   "pygments_lexer": "ipython2",
   "version": "2.7.6"
  }
 },
 "nbformat": 4,
 "nbformat_minor": 0
}